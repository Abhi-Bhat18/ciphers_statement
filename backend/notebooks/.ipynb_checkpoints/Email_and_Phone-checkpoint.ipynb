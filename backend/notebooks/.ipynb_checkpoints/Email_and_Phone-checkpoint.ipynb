{
 "cells": [
  {
   "cell_type": "code",
   "execution_count": 8,
   "id": "7f42d24d",
   "metadata": {},
   "outputs": [],
   "source": [
    "import pandas as pd\n",
    "import random\n",
    "import string"
   ]
  },
  {
   "cell_type": "code",
   "execution_count": 2,
   "id": "215ed4a9",
   "metadata": {},
   "outputs": [],
   "source": [
    "data = pd.read_csv(\"../data/cleaned_dataset.csv\")"
   ]
  },
  {
   "cell_type": "code",
   "execution_count": 4,
   "id": "0d099d87",
   "metadata": {},
   "outputs": [],
   "source": [
    "def add_address(data):\n",
    "    domain = ['@gmail.com','@yahoo.com','@google.com','@microsoft.com','@proton.in']\n",
    "    return data+random.choice(domain)"
   ]
  },
  {
   "cell_type": "code",
   "execution_count": 6,
   "id": "11b107d1",
   "metadata": {},
   "outputs": [],
   "source": [
    "data['address'] = data['Name'].apply(add_address)"
   ]
  },
  {
   "cell_type": "code",
   "execution_count": 12,
   "id": "1887fa04",
   "metadata": {},
   "outputs": [],
   "source": [
    "new_number = []\n",
    "for i in range(data.shape[0]):\n",
    "    num = []\n",
    "    num.append(str(random.randint(7,9)))\n",
    "    for i in range(9):\n",
    "        num.append(random.choice(string.digits))\n",
    "    new_number.append(\"\".join(num))"
   ]
  },
  {
   "cell_type": "code",
   "execution_count": 14,
   "id": "1d9bbfd7",
   "metadata": {},
   "outputs": [],
   "source": [
    "data['phone'] = new_number"
   ]
  },
  {
   "cell_type": "code",
   "execution_count": 25,
   "id": "d15dfb14",
   "metadata": {},
   "outputs": [],
   "source": [
    "data.to_csv(\"cleaned_dataset.csv\",index=False)"
   ]
  }
 ],
 "metadata": {
  "kernelspec": {
   "display_name": "Python 3 (ipykernel)",
   "language": "python",
   "name": "python3"
  },
  "language_info": {
   "codemirror_mode": {
    "name": "ipython",
    "version": 3
   },
   "file_extension": ".py",
   "mimetype": "text/x-python",
   "name": "python",
   "nbconvert_exporter": "python",
   "pygments_lexer": "ipython3",
   "version": "3.10.6"
  }
 },
 "nbformat": 4,
 "nbformat_minor": 5
}
