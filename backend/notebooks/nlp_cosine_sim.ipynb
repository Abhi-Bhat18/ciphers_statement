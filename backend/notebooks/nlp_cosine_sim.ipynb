{
 "cells": [
  {
   "cell_type": "code",
   "execution_count": 18,
   "id": "4c1d6a94",
   "metadata": {},
   "outputs": [],
   "source": [
    "import pandas as pd\n",
    "import numpy as np\n",
    "import matplotlib.pyplot as plt\n",
    "import re\n",
    "from sklearn.preprocessing import LabelEncoder\n",
    "import nltk\n",
    "from nltk.tokenize import word_tokenize\n",
    "from nltk.stem import WordNetLemmatizer\n",
    "from nltk.corpus import stopwords\n",
    "from sklearn.model_selection import train_test_split\n",
    "\n",
    "import spacy\n",
    "import yake\n",
    "from sklearn.model_selection import train_test_split\n",
    "from sklearn.feature_extraction.text import TfidfVectorizer\n",
    "from scipy.sparse import hstack"
   ]
  },
  {
   "cell_type": "code",
   "execution_count": 19,
   "id": "dbab2a95",
   "metadata": {},
   "outputs": [],
   "source": [
    "resume = pd.read_csv(\"UpdatedResumeDataSet.csv\")"
   ]
  },
  {
   "cell_type": "code",
   "execution_count": 20,
   "id": "d22bc26b",
   "metadata": {},
   "outputs": [
    {
     "data": {
      "text/html": [
       "<div>\n",
       "<style scoped>\n",
       "    .dataframe tbody tr th:only-of-type {\n",
       "        vertical-align: middle;\n",
       "    }\n",
       "\n",
       "    .dataframe tbody tr th {\n",
       "        vertical-align: top;\n",
       "    }\n",
       "\n",
       "    .dataframe thead th {\n",
       "        text-align: right;\n",
       "    }\n",
       "</style>\n",
       "<table border=\"1\" class=\"dataframe\">\n",
       "  <thead>\n",
       "    <tr style=\"text-align: right;\">\n",
       "      <th></th>\n",
       "      <th>Category</th>\n",
       "      <th>Resume</th>\n",
       "    </tr>\n",
       "  </thead>\n",
       "  <tbody>\n",
       "    <tr>\n",
       "      <th>0</th>\n",
       "      <td>Data Science</td>\n",
       "      <td>Skills * Programming Languages: Python (pandas...</td>\n",
       "    </tr>\n",
       "    <tr>\n",
       "      <th>1</th>\n",
       "      <td>Data Science</td>\n",
       "      <td>Education Details \\r\\nMay 2013 to May 2017 B.E...</td>\n",
       "    </tr>\n",
       "    <tr>\n",
       "      <th>2</th>\n",
       "      <td>Data Science</td>\n",
       "      <td>Areas of Interest Deep Learning, Control Syste...</td>\n",
       "    </tr>\n",
       "    <tr>\n",
       "      <th>3</th>\n",
       "      <td>Data Science</td>\n",
       "      <td>Skills â¢ R â¢ Python â¢ SAP HANA â¢ Table...</td>\n",
       "    </tr>\n",
       "    <tr>\n",
       "      <th>4</th>\n",
       "      <td>Data Science</td>\n",
       "      <td>Education Details \\r\\n MCA   YMCAUST,  Faridab...</td>\n",
       "    </tr>\n",
       "  </tbody>\n",
       "</table>\n",
       "</div>"
      ],
      "text/plain": [
       "       Category                                             Resume\n",
       "0  Data Science  Skills * Programming Languages: Python (pandas...\n",
       "1  Data Science  Education Details \\r\\nMay 2013 to May 2017 B.E...\n",
       "2  Data Science  Areas of Interest Deep Learning, Control Syste...\n",
       "3  Data Science  Skills â¢ R â¢ Python â¢ SAP HANA â¢ Table...\n",
       "4  Data Science  Education Details \\r\\n MCA   YMCAUST,  Faridab..."
      ]
     },
     "execution_count": 20,
     "metadata": {},
     "output_type": "execute_result"
    }
   ],
   "source": [
    "resume.head(5)"
   ]
  },
  {
   "cell_type": "code",
   "execution_count": 21,
   "id": "da775777",
   "metadata": {},
   "outputs": [
    {
     "data": {
      "text/plain": [
       "array(['Data Science', 'HR', 'Advocate', 'Arts', 'Web Designing',\n",
       "       'Mechanical Engineer', 'Sales', 'Health and fitness',\n",
       "       'Civil Engineer', 'Java Developer', 'Business Analyst',\n",
       "       'SAP Developer', 'Automation Testing', 'Electrical Engineering',\n",
       "       'Operations Manager', 'Python Developer', 'DevOps Engineer',\n",
       "       'Network Security Engineer', 'PMO', 'Database', 'Hadoop',\n",
       "       'ETL Developer', 'DotNet Developer', 'Blockchain', 'Testing'],\n",
       "      dtype=object)"
      ]
     },
     "execution_count": 21,
     "metadata": {},
     "output_type": "execute_result"
    }
   ],
   "source": [
    "resume['Category'].unique()"
   ]
  },
  {
   "cell_type": "code",
   "execution_count": 22,
   "id": "a0e864a5",
   "metadata": {},
   "outputs": [
    {
     "data": {
      "text/plain": [
       "(962, 2)"
      ]
     },
     "execution_count": 22,
     "metadata": {},
     "output_type": "execute_result"
    }
   ],
   "source": [
    "resume.shape"
   ]
  },
  {
   "cell_type": "code",
   "execution_count": 23,
   "id": "825053bc",
   "metadata": {},
   "outputs": [],
   "source": [
    "l = []"
   ]
  },
  {
   "cell_type": "code",
   "execution_count": 24,
   "id": "86d7b821",
   "metadata": {},
   "outputs": [],
   "source": [
    "import random\n",
    "import string"
   ]
  },
  {
   "cell_type": "code",
   "execution_count": 25,
   "id": "7a1a00b9",
   "metadata": {},
   "outputs": [],
   "source": [
    "for i in range(962):\n",
    "    letters = string.ascii_letters\n",
    "    username = []\n",
    "    for i in range(random.randint(4,8)):\n",
    "        name = random.choice(letters)\n",
    "        username.append(name)\n",
    "    l.append(''.join(username))"
   ]
  },
  {
   "cell_type": "code",
   "execution_count": 26,
   "id": "55f621a2",
   "metadata": {},
   "outputs": [],
   "source": [
    "lemm = WordNetLemmatizer()"
   ]
  },
  {
   "cell_type": "code",
   "execution_count": 27,
   "id": "6317a4a4",
   "metadata": {},
   "outputs": [
    {
     "name": "stdout",
     "output_type": "stream",
     "text": [
      "Skills â¢ Python â¢ Tableau â¢ Data Visualization â¢ R Studio â¢ Machine Learning â¢ Statistics IABAC Certified Data Scientist with versatile experience over 1+ years in managing business, data science consulting and leading innovation projects, bringing business ideas to working real world solutions. Being a strong advocator of augmented era, where human capabilities are enhanced by machines, Fahed is passionate about bringing business concepts in area of machine learning, AI, robotics etc., to real life solutions.Education Details \r\n",
      "January 2017 B. Tech Computer Science & Engineering Mohali, Punjab Indo Global College of Engineering\r\n",
      "Data Science Consultant \r\n",
      "\r\n",
      "Data Science Consultant - Datamites\r\n",
      "Skill Details \r\n",
      "MACHINE LEARNING- Exprience - 13 months\r\n",
      "PYTHON- Exprience - 24 months\r\n",
      "SOLUTIONS- Exprience - 24 months\r\n",
      "DATA SCIENCE- Exprience - 24 months\r\n",
      "DATA VISUALIZATION- Exprience - 24 months\r\n",
      "Tableau- Exprience - 24 monthsCompany Details \r\n",
      "company - Datamites\r\n",
      "description - â¢ Analyzed and processed complex data sets using advanced querying, visualization and analytics tools.\r\n",
      "â¢ Responsible for loading, extracting and validation of client data.\r\n",
      "â¢ Worked on manipulating, cleaning & processing data using python.\r\n",
      "â¢ Used Tableau for data visualization.\r\n",
      "company - Heretic Solutions Pvt Ltd\r\n",
      "description - â¢ Worked closely with business to identify issues and used data to propose solutions for effective decision making.\r\n",
      "â¢ Manipulating, cleansing & processing data using Python, Excel and R.\r\n",
      "â¢ Analyzed raw data, drawing conclusions & developing recommendations.\r\n",
      "â¢ Used machine learning tools and statistical techniques to produce solutions to problems.\n"
     ]
    }
   ],
   "source": [
    "print(resume['Resume'].iloc[6])"
   ]
  },
  {
   "cell_type": "code",
   "execution_count": 34,
   "id": "6e42ec16",
   "metadata": {},
   "outputs": [],
   "source": [
    "resume['Name'] = l"
   ]
  },
  {
   "cell_type": "code",
   "execution_count": 35,
   "id": "60d708c0",
   "metadata": {},
   "outputs": [],
   "source": [
    "def cleanResume(resumeText):\n",
    "    resumeText = re.sub('http\\S+\\s*', ' ', resumeText)  # remove URLs\n",
    "    resumeText = re.sub('RT|cc', ' ', resumeText)  # remove RT and cc\n",
    "    resumeText = re.sub('#\\S+', '', resumeText)  # remove hashtags\n",
    "    resumeText = re.sub('@\\S+', '  ', resumeText)  # remove mentions\n",
    "    resumeText = re.sub('[%s]' % re.escape(\"\"\"!\"#$%&'()*+,-./:;<=>?@[\\]^_`{|}~\"\"\"), ' ', resumeText)  # remove punctuations\n",
    "    resumeText = re.sub(r'[^\\x00-\\x7f]',r' ', resumeText) \n",
    "    resumeText = re.sub('\\s+', ' ', resumeText)  # remove extra whitespace\n",
    "    return resumeText"
   ]
  },
  {
   "cell_type": "code",
   "execution_count": 36,
   "id": "5a076ef6",
   "metadata": {},
   "outputs": [],
   "source": [
    "resume['cleaned_resume'] = resume['Resume'].apply(cleanResume)"
   ]
  },
  {
   "cell_type": "code",
   "execution_count": 37,
   "id": "16151457",
   "metadata": {},
   "outputs": [],
   "source": [
    "resume['cleaned_resume'] = resume['cleaned_resume'].apply(lambda x:lemm.lemmatize(x))"
   ]
  },
  {
   "cell_type": "code",
   "execution_count": 38,
   "id": "83bb6da0",
   "metadata": {},
   "outputs": [
    {
     "data": {
      "text/html": [
       "<div>\n",
       "<style scoped>\n",
       "    .dataframe tbody tr th:only-of-type {\n",
       "        vertical-align: middle;\n",
       "    }\n",
       "\n",
       "    .dataframe tbody tr th {\n",
       "        vertical-align: top;\n",
       "    }\n",
       "\n",
       "    .dataframe thead th {\n",
       "        text-align: right;\n",
       "    }\n",
       "</style>\n",
       "<table border=\"1\" class=\"dataframe\">\n",
       "  <thead>\n",
       "    <tr style=\"text-align: right;\">\n",
       "      <th></th>\n",
       "      <th>Category</th>\n",
       "      <th>Resume</th>\n",
       "      <th>cleaned_resume</th>\n",
       "      <th>Name</th>\n",
       "    </tr>\n",
       "  </thead>\n",
       "  <tbody>\n",
       "    <tr>\n",
       "      <th>0</th>\n",
       "      <td>Data Science</td>\n",
       "      <td>Skills * Programming Languages: Python (pandas...</td>\n",
       "      <td>Skills Programming Languages Python pandas num...</td>\n",
       "      <td>PknhrGQ</td>\n",
       "    </tr>\n",
       "    <tr>\n",
       "      <th>1</th>\n",
       "      <td>Data Science</td>\n",
       "      <td>Education Details \\r\\nMay 2013 to May 2017 B.E...</td>\n",
       "      <td>Education Details May 2013 to May 2017 B E UIT...</td>\n",
       "      <td>sGEvAF</td>\n",
       "    </tr>\n",
       "    <tr>\n",
       "      <th>2</th>\n",
       "      <td>Data Science</td>\n",
       "      <td>Areas of Interest Deep Learning, Control Syste...</td>\n",
       "      <td>Areas of Interest Deep Learning Control System...</td>\n",
       "      <td>qsDXw</td>\n",
       "    </tr>\n",
       "    <tr>\n",
       "      <th>3</th>\n",
       "      <td>Data Science</td>\n",
       "      <td>Skills â¢ R â¢ Python â¢ SAP HANA â¢ Table...</td>\n",
       "      <td>Skills R Python SAP HANA Tableau SAP HANA SQL ...</td>\n",
       "      <td>zvsCN</td>\n",
       "    </tr>\n",
       "    <tr>\n",
       "      <th>4</th>\n",
       "      <td>Data Science</td>\n",
       "      <td>Education Details \\r\\n MCA   YMCAUST,  Faridab...</td>\n",
       "      <td>Education Details MCA YMCAUST Faridabad Haryan...</td>\n",
       "      <td>sMTAYMY</td>\n",
       "    </tr>\n",
       "  </tbody>\n",
       "</table>\n",
       "</div>"
      ],
      "text/plain": [
       "       Category                                             Resume  \\\n",
       "0  Data Science  Skills * Programming Languages: Python (pandas...   \n",
       "1  Data Science  Education Details \\r\\nMay 2013 to May 2017 B.E...   \n",
       "2  Data Science  Areas of Interest Deep Learning, Control Syste...   \n",
       "3  Data Science  Skills â¢ R â¢ Python â¢ SAP HANA â¢ Table...   \n",
       "4  Data Science  Education Details \\r\\n MCA   YMCAUST,  Faridab...   \n",
       "\n",
       "                                      cleaned_resume     Name  \n",
       "0  Skills Programming Languages Python pandas num...  PknhrGQ  \n",
       "1  Education Details May 2013 to May 2017 B E UIT...   sGEvAF  \n",
       "2  Areas of Interest Deep Learning Control System...    qsDXw  \n",
       "3  Skills R Python SAP HANA Tableau SAP HANA SQL ...    zvsCN  \n",
       "4  Education Details MCA YMCAUST Faridabad Haryan...  sMTAYMY  "
      ]
     },
     "execution_count": 38,
     "metadata": {},
     "output_type": "execute_result"
    }
   ],
   "source": [
    "resume.head(5)"
   ]
  },
  {
   "cell_type": "code",
   "execution_count": 39,
   "id": "77ea1f4b",
   "metadata": {},
   "outputs": [
    {
     "name": "stdout",
     "output_type": "stream",
     "text": [
      "Education Details B Tech Rayat and Bahra Institute of Engineering and Biotechnology Data Science Data Science Skill Details Numpy Exprience Less than 1 year months Machine Learning Exprience Less than 1 year months Tensorflow Exprience Less than 1 year months Scikit Exprience Less than 1 year months Python Exprience Less than 1 year months GCP Exprience Less than 1 year months Pandas Exprience Less than 1 year months Neural Network Exprience Less than 1 year monthsCompany Details company Wipro description Bhawana Aggarwal E Mail bhawana chd Phone 09876971076 VVersatile high energy professional targeting challenging assignments in Machine PROFILE SUMMARY An IT professional with knowledge and experience of 2 years in Wipro Technologies in Machine Learning Deep Learning Data Science Python Software Development Skilled in managing end to end development and software products projects from inception requirement specs planning designing implementation configuration and documentation Knowledge on Python Machine Learning Deep Learning data Science Algorithms Neural Network NLP GCP Knowledge on Python Libraries like Numpy Pandas Seaborn Matplotlib Cufflinks Knowledge on different algorithms in Machine learning like KNN Decision Tree Bias variance Trade off Support vector Machine SVM Logistic Regression Neural networks Have knowledge on unsupervised Supervised and reinforcement data Programming experience in relational platforms like MySQL Oracle Have knowledge on Some programming language like C Java Experience in cloud based environment like Google Cloud Working on different Operating System like Linux Ubuntu Windows Good interpersonal and communication skills Problem solving skills with the ability to think laterally and to think with a medium term and long term perspective Flexibility and an open attitude to change Ability to create define and own frameworks with a strong emphasis on code reusability TECHNICAL SKILLS Programming Languages Python C Libraries Seaborn Numpy Pandas Cufflinks Matplotlib Algorithms KNN Decision Tree Linear regression Logistic Regression Neural Networks K means clustering Tensorflow SVM Databases SQL Oracle Operating Systems Linux Window Development Environments NetBeans Notebooks Sublime Ticketing tools Service Now Remedy Education UG Education B Tech Computer Science from Rayat and Bahra Institute of Engineering and Biotechnology passed with 78 4 in 2016 Schooling XII in 2012 from Moti Ram Arya Sr Secondary School Passed with 78 4 X in 2010 from Valley Public School Passed with 9 4 CGPA WORK EXPERINCE Title Wipro Neural Intelligence Platform Team Size 5 Brief Wipro s Neural Intelligence Platform harnesses the power of automation and artificial intelligence technologies natural language processing NLP cognitive machine learning and analytics The platform comprises three layers a data engagement platform that can easily a ess and manage multiple structured and unstructured data sources an intent assessment and reasoning engine that includes sentiment and predictive analytics and a deep machine learning engine that can sense act and learn over time The project entailed automating responses to user queries at the earliest The Monster Bot using the power of Deep Machine Learning NLP to handle such queries User can see the how their queries can be answered quickly like allL1 activities can be eliminated Entity Extractor This involves text extraction and NLP for fetching out important information from the text like dates names places contact numbers etc This involves Regex Bluemix NLU api s and machine learning using Tensor flow for further learning of new entities Classifier This involves the classifications of classes training of dataset and predicting the output using the SKLearn classifier MNB SVM SGD as Classifier and SGD for the optimization to map the user queries with the best suited response and make the system efficient NER A Deep Learning NER Model is trained to extract the entities from the text Entities like Roles Skills Organizations can be extracted from raw text RNN LSTM Bidirectional model is trained for extracting such entities using Keras TensorFlow framework OTHER PROJECTS Title Diabetes Detection Brief Developed the software which can detect whether the person is suffering from Diabetes or not and got the third prize in it TRAINING AND CE IFICATIONS Title Python Training Machine Learning Data Science Deep Learning Organization Udemy Coursera Machine Learning Deep Learning Personal Profile Father s Name Mr Tirlok Aggarwal Language Known English Hindi Marital Status Single Date of Birth Gender 1993 12 20 YYYY MM DD F company Wipro description Developing programs in Python company Wipro description Title Wipro Neural Intelligence Platform Team Size 5 Brief Wipro s Neural Intelligence Platform harnesses the power of automation and artificial intelligence technologies natural language processing NLP cognitive machine learning and analytics The platform comprises three layers a data engagement platform that can easily a ess and manage multiple structured and unstructured data sources an intent assessment and reasoning engine that includes sentiment and predictive analytics and a deep machine learning engine that can sense act and learn over time The project entailed automating responses to user queries at the earliest The Monster Bot using the power of Deep Machine Learning NLP to handle such queries User can see the how their queries can be answered quickly like allL1 activities can be eliminated Entity Extractor This involves text extraction and NLP for fetching out important information from the text like dates names places contact numbers etc This involves Regex Bluemix NLU api s and machine learning using Tensor flow for further learning of new entities Classifier This involves the classifications of classes training of dataset and predicting the output using the SKLearn classifier MNB SVM SGD as Classifier and SGD for the optimization to map the user queries with the best suited response and make the system efficient NER A Deep Learning NER Model is trained to extract the entities from the text Entities like Roles Skills Organizations can be extracted from raw text RNN LSTM Bidirectional model is trained for extracting such entities using Keras TensorFlow framework company Wipro Technologies description An IT professional with knowledge and experience of 2 years in Wipro Technologies in Machine Learning Deep Learning Data Science Python Software Development Skilled in managing end to end development and software products projects from inception requirement specs planning designing implementation configuration and documentation Knowledge on Python Machine Learning Deep Learning data Science Algorithms Neural Network NLP GCP Knowledge on Python Libraries like Numpy Pandas Seaborn Matplotlib Cufflinks Knowledge on different algorithms in Machine learning like KNN Decision Tree Bias variance Trade off Support vector Machine SVM Logistic Regression Neural networks Have knowledge on unsupervised Supervised and reinforcement data Programming experience in relational platforms like MySQL Oracle Have knowledge on Some programming language like C Java Experience in cloud based environment like Google Cloud Working on different Operating System like Linux Ubuntu Windows Good interpersonal and communication skills Problem solving skills with the ability to think laterally and to think with a medium term and long term perspective Flexibility and an open attitude to change Ability to create define and own frameworks with a strong emphasis on code reusability \n"
     ]
    }
   ],
   "source": [
    "print(resume['cleaned_resume'].iloc[7])"
   ]
  },
  {
   "cell_type": "code",
   "execution_count": 45,
   "id": "1ca87ecc",
   "metadata": {},
   "outputs": [],
   "source": [
    "X = resume[['Category','Name','cleaned_resume']]\n",
    "y = resume['Category'].values"
   ]
  },
  {
   "cell_type": "code",
   "execution_count": 121,
   "id": "60700c34",
   "metadata": {},
   "outputs": [
    {
     "name": "stdout",
     "output_type": "stream",
     "text": [
      "Feature completed .....\n",
      "(769, 7351)\n",
      "(193, 7351)\n"
     ]
    }
   ],
   "source": [
    "requiredText = resume['cleaned_resume'].values\n",
    "requiredTarget = resume['Category'].values\n",
    "\n",
    "word_vectorizer = TfidfVectorizer(\n",
    "    sublinear_tf=True,\n",
    "    stop_words='english')\n",
    "WordFeatures = word_vectorizer.fit_transform(requiredText)\n",
    "\n",
    "print (\"Feature completed .....\")\n",
    "\n",
    "X_train,X_test,y_train,y_test = train_test_split(WordFeatures,requiredTarget,random_state=42, test_size=0.2,\n",
    "                                                 shuffle=True, stratify=requiredTarget)\n",
    "print(X_train.shape)\n",
    "print(X_test.shape)"
   ]
  },
  {
   "cell_type": "code",
   "execution_count": 88,
   "id": "ade91537",
   "metadata": {},
   "outputs": [],
   "source": [
    "X_train,X_test,y_train,y_test = train_test_split(X,y,random_state=42, test_size=0.2)"
   ]
  },
  {
   "cell_type": "code",
   "execution_count": 89,
   "id": "4ba02140",
   "metadata": {},
   "outputs": [],
   "source": [
    "X_train.reset_index(inplace=True)"
   ]
  },
  {
   "cell_type": "code",
   "execution_count": 90,
   "id": "85fd4a01",
   "metadata": {},
   "outputs": [],
   "source": [
    "X_train.drop(\"index\",axis=1,inplace=True)"
   ]
  },
  {
   "cell_type": "code",
   "execution_count": 91,
   "id": "050fe698",
   "metadata": {},
   "outputs": [],
   "source": [
    "tfidf = TfidfVectorizer(stop_words=\"english\")\n",
    "tfidf_fit = tfidf.fit_transform(X_train['cleaned_resume'])"
   ]
  },
  {
   "cell_type": "code",
   "execution_count": 92,
   "id": "1e926955",
   "metadata": {},
   "outputs": [
    {
     "data": {
      "text/plain": [
       "(769, 7304)"
      ]
     },
     "execution_count": 92,
     "metadata": {},
     "output_type": "execute_result"
    }
   ],
   "source": [
    "tfidf_fit.shape"
   ]
  },
  {
   "cell_type": "code",
   "execution_count": 93,
   "id": "93cd1e57",
   "metadata": {},
   "outputs": [],
   "source": [
    "from sklearn.metrics.pairwise import cosine_similarity"
   ]
  },
  {
   "cell_type": "code",
   "execution_count": 94,
   "id": "ae888219",
   "metadata": {},
   "outputs": [],
   "source": [
    "cosine_sim = cosine_similarity(tfidf_fit,tfidf_fit)"
   ]
  },
  {
   "cell_type": "code",
   "execution_count": 95,
   "id": "73a927fb",
   "metadata": {},
   "outputs": [
    {
     "data": {
      "text/plain": [
       "(769, 769)"
      ]
     },
     "execution_count": 95,
     "metadata": {},
     "output_type": "execute_result"
    }
   ],
   "source": [
    "cosine_sim.shape"
   ]
  },
  {
   "cell_type": "code",
   "execution_count": 96,
   "id": "6d23a5f8",
   "metadata": {},
   "outputs": [],
   "source": [
    "index_sim = pd.Series(X_train.index, index=X_train['Category']).drop_duplicates()"
   ]
  },
  {
   "cell_type": "code",
   "execution_count": 97,
   "id": "2446aa8b",
   "metadata": {},
   "outputs": [
    {
     "data": {
      "text/plain": [
       "Category\n",
       "Automation Testing    0\n",
       "Blockchain            1\n",
       "Operations Manager    2\n",
       "Health and fitness    3\n",
       "Arts                  4\n",
       "dtype: int64"
      ]
     },
     "execution_count": 97,
     "metadata": {},
     "output_type": "execute_result"
    }
   ],
   "source": [
    "index_sim.head()"
   ]
  },
  {
   "cell_type": "code",
   "execution_count": null,
   "id": "2d457bac",
   "metadata": {},
   "outputs": [],
   "source": []
  },
  {
   "cell_type": "code",
   "execution_count": 112,
   "id": "103bf561",
   "metadata": {},
   "outputs": [],
   "source": [
    "def get_recommendations(title):\n",
    "    idx = index_sim[title]\n",
    "    sim_scores = list(enumerate(cosine_sim[idx]))\n",
    "    sim_scores = sorted(sim_scores, key=lambda x: x[0], reverse=True)\n",
    "    sim_scores = sim_scores[1:20]\n",
    "    \n",
    "    resume_indices = [i[0] for i in sim_scores]\n",
    "    return list(X_train['Name'].iloc[resume_indices].values)"
   ]
  },
  {
   "cell_type": "code",
   "execution_count": 115,
   "id": "45913c34",
   "metadata": {},
   "outputs": [],
   "source": [
    "valid = get_recommendations(\"DevOps Engineer\")"
   ]
  },
  {
   "cell_type": "code",
   "execution_count": 118,
   "id": "2aec44e1",
   "metadata": {},
   "outputs": [
    {
     "data": {
      "text/plain": [
       "['DJOfwX',\n",
       " 'wWMfD',\n",
       " 'VQgNoRAa',\n",
       " 'JQmR',\n",
       " 'pcIAPSDQ',\n",
       " 'SwdPNC',\n",
       " 'QYXSSqDV',\n",
       " 'lsqsS',\n",
       " 'lszeXZMR',\n",
       " 'OowbY',\n",
       " 'wvZD',\n",
       " 'vZXJ',\n",
       " 'rOidU',\n",
       " 'FJAVnJ',\n",
       " 'CvjWfo',\n",
       " 'upcYe',\n",
       " 'itkiMdZd',\n",
       " 'jUVmf',\n",
       " 'AlbY']"
      ]
     },
     "execution_count": 118,
     "metadata": {},
     "output_type": "execute_result"
    }
   ],
   "source": [
    "valid"
   ]
  },
  {
   "cell_type": "code",
   "execution_count": 121,
   "id": "a7082773",
   "metadata": {},
   "outputs": [
    {
     "data": {
      "text/plain": [
       "'TECHNICAL SKILLS Programming Languages C Web Technologies ASP NET MVC Web API Angular JQuery HTML5 CSS3 Bootstrap Database SQL Server 2014 IDE Visual Studio 2015 Visual Studio Code Office Packages MS Office A ess Word Excel Education Details January 2016 B Sc Computer Science Solapur Maharashtra Solapur University DOT NET Developer DOT NET Developer Navshar Global Software Skill Details NET Exprience 15 months ASP Exprience 15 months ASP NET Exprience 15 months BOOTSTRAP Exprience 15 months jQuery Exprience 15 months ASP NET MVC Exprience Less than 1 year months Angularjs Exprience Less than 1 year months C Exprience Less than 1 year months Entity Framework Exprience Less than 1 year monthsCompany Details company Navshar Global Software description 017 PROJECTS WORKED ON 1 Navnirman Tech Festival Navnirman Tech Festival is a technical event management application that is used to scheduling and organizing event Technologies ASP NET MVC SQL Server Entity Framework AJAX JQuery Role Involved Everywhere 2 Like Security The Like Security web application provides trusted services and man power as well labour management Technologies ASP NET MVC SQL Server Bootstrap AJAX JQuery Role Involved Everywhere 3 Performance Review In House Project This is an In House Web application which is used to fill the review for particular Employee by other employees who worked with him This application is very useful to take decision in appraisal of employee All the submitted review can be downloaded in PDF format as per selection Technologies ASP NET MVC Entity Framework SQL Server AJAX JQuery Role Involved Everywhere company None description None'"
      ]
     },
     "execution_count": 121,
     "metadata": {},
     "output_type": "execute_result"
    }
   ],
   "source": [
    "X_train[X_train['Name'].apply(lambda x:x in valid)]['cleaned_resume'].iloc[3]"
   ]
  },
  {
   "cell_type": "code",
   "execution_count": 148,
   "id": "5b3b10c5",
   "metadata": {},
   "outputs": [
    {
     "data": {
      "text/plain": [
       "(769, 769)"
      ]
     },
     "execution_count": 148,
     "metadata": {},
     "output_type": "execute_result"
    }
   ],
   "source": [
    "cosine_sim.shape"
   ]
  },
  {
   "cell_type": "code",
   "execution_count": 114,
   "id": "2bf6ae46",
   "metadata": {},
   "outputs": [],
   "source": [
    "index_sim = pd.Series(resume.index, index=resume['Name']).drop_duplicates()"
   ]
  },
  {
   "cell_type": "code",
   "execution_count": 120,
   "id": "9c69a732",
   "metadata": {},
   "outputs": [
    {
     "data": {
      "text/plain": [
       "<769x7351 sparse matrix of type '<class 'numpy.float64'>'\n",
       "\twith 129032 stored elements in Compressed Sparse Row format>"
      ]
     },
     "execution_count": 120,
     "metadata": {},
     "output_type": "execute_result"
    }
   ],
   "source": [
    "get_recommendations()"
   ]
  },
  {
   "cell_type": "code",
   "execution_count": 116,
   "id": "80f6bac4",
   "metadata": {},
   "outputs": [],
   "source": [
    "def get_recommendations(title):\n",
    "    idx = index_sim[title]\n",
    "    sim_scores = list(enumerate(cosine_sim[idx]))\n",
    "    sim_scores = sorted(sim_scores, key=lambda x: x[1], reverse=True)\n",
    "    sim_scores = sim_scores[1:11]\n",
    "    \n",
    "    resume_indices = [i[0] for i in sim_scores]\n",
    "    return list(resume['Name'].iloc[resume_indices].values)"
   ]
  },
  {
   "cell_type": "code",
   "execution_count": 91,
   "id": "eda49d4e",
   "metadata": {},
   "outputs": [
    {
     "data": {
      "text/plain": [
       "['2 month']"
      ]
     },
     "execution_count": 91,
     "metadata": {},
     "output_type": "execute_result"
    }
   ],
   "source": [
    "data = \"I have 2 months experience\"\n",
    "l = re.findall(\"\\\\d+ month|\\\\d+ year\",data)\n",
    "l"
   ]
  },
  {
   "cell_type": "code",
   "execution_count": 44,
   "id": "d90527df",
   "metadata": {},
   "outputs": [],
   "source": [
    "def filter_year_of_experience(data):\n",
    "    all_date = re.findall(\"\\\\d+ months|\\\\d+ year|\\\\d+ years\",data)\n",
    "    years = []\n",
    "    for date in all_date:\n",
    "        if 'month' in date:\n",
    "            re_month = re.findall(\"\\\\d+\",date)\n",
    "            years.append(int(re_month[0])/12)\n",
    "        elif 'year' in date:\n",
    "            re_year = re.findall(\"\\\\d+\",date)\n",
    "            years.append(int(re_year[0]))\n",
    "    return sum(years)"
   ]
  },
  {
   "cell_type": "code",
   "execution_count": 100,
   "id": "1271d422",
   "metadata": {},
   "outputs": [],
   "source": [
    "resume['overall_experience'] = resume['year'].apply(filter_year_of_experience)"
   ]
  },
  {
   "cell_type": "code",
   "execution_count": 102,
   "id": "6b62e2bf",
   "metadata": {},
   "outputs": [],
   "source": [
    "resume.to_csv(\"cleaned_dataset.csv\",index=False)"
   ]
  }
 ],
 "metadata": {
  "kernelspec": {
   "display_name": "Python 3 (ipykernel)",
   "language": "python",
   "name": "python3"
  },
  "language_info": {
   "codemirror_mode": {
    "name": "ipython",
    "version": 3
   },
   "file_extension": ".py",
   "mimetype": "text/x-python",
   "name": "python",
   "nbconvert_exporter": "python",
   "pygments_lexer": "ipython3",
   "version": "3.10.6"
  }
 },
 "nbformat": 4,
 "nbformat_minor": 5
}
